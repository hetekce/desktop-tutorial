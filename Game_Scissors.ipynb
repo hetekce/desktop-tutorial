{
 "cells": [
  {
   "cell_type": "markdown",
   "metadata": {},
   "source": [
    "## GAME TIME"
   ]
  },
  {
   "cell_type": "code",
   "execution_count": 21,
   "metadata": {},
   "outputs": [
    {
     "name": "stdin",
     "output_type": "stream",
     "text": [
      "Please Choose the Object from : rock:0, spock:1, paper:2, lizard:3, scissors:4 4\n"
     ]
    },
    {
     "name": "stdout",
     "output_type": "stream",
     "text": [
      "Your choice is:  SCISSORS .\n",
      "Computer's choice is:  SCISSORS .\n",
      "*******************************\n",
      "No Winner!\n",
      "Player and computer tie!\n",
      "SCISSORS cannot beat SCISSORS\n"
     ]
    }
   ],
   "source": [
    "import random\n",
    "\n",
    "def nr_to_name(number):\n",
    "    if number==0:\n",
    "        return \"rock\"\n",
    "    elif number==1:\n",
    "        return \"spock\"\n",
    "    elif number==2: \n",
    "        return\"paper\"\n",
    "    elif number==3: \n",
    "        return \"lizard\"\n",
    "    elif number==4: \n",
    "        return \"scissors\"\n",
    "    else: print( \"Error on number.\"  )        \n",
    "        \n",
    "def GAME():\n",
    "    choice_name = nr_to_name(choice1).upper()\n",
    "    print( \"Your choice is: \", choice_name, \".\" )\n",
    "    rand = random.randrange(0,5)\n",
    "    choice2 = nr_to_name(rand).upper()\n",
    "    print (\"Computer's choice is: \", choice2, \".\")\n",
    "    print(\"*******************************\")\n",
    "    division = (choice1 - rand) % 5\n",
    "    if division==0:\n",
    "        print(\"No Winner!\")\n",
    "        print (\"Player and computer tie!\")\n",
    "        print(choice_name, \"cannot beat\", choice2)\n",
    "    elif division<=2:\n",
    "        print(\"YOU WIN!\")\n",
    "        print(choice_name, \"beats the\", choice2)\n",
    "    elif division>=3:\n",
    "        print( \"Computer wins!\")\n",
    "        print(choice2, \"beats the\", choice_name)\n",
    "        \n",
    "while True:\n",
    "    try:\n",
    "        choice1 = int(input(\"Please Choose the Object from : rock:0, spock:1, paper:2, lizard:3, scissors:4\"))\n",
    "        if choice1<0 or choice1>4:\n",
    "            print(\"Please enter the number between 0 and 4\")\n",
    "            continue\n",
    "        else:\n",
    "            GAME()\n",
    "        break\n",
    "    except ValueError:\n",
    "        print(\"No valid integer! Please try again..Please enter the number between 0 and 4\") "
   ]
  },
  {
   "cell_type": "code",
   "execution_count": null,
   "metadata": {},
   "outputs": [],
   "source": []
  }
 ],
 "metadata": {
  "kernelspec": {
   "display_name": "Python 3",
   "language": "python",
   "name": "python3"
  },
  "language_info": {
   "codemirror_mode": {
    "name": "ipython",
    "version": 3
   },
   "file_extension": ".py",
   "mimetype": "text/x-python",
   "name": "python",
   "nbconvert_exporter": "python",
   "pygments_lexer": "ipython3",
   "version": "3.7.7"
  }
 },
 "nbformat": 4,
 "nbformat_minor": 4
}
